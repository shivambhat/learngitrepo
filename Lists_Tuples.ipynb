{
 "cells": [
  {
   "cell_type": "code",
   "execution_count": 2,
   "metadata": {},
   "outputs": [
    {
     "name": "stdout",
     "output_type": "stream",
     "text": [
      "Animal is Panther\n",
      "Animal is lion\n",
      "Animal is Tiger\n",
      "Animal is leopard\n",
      "Animal is Puma\n",
      "Animal is Cougar\n",
      "Animal is Cheetah\n",
      "Animal is snow leopard\n"
     ]
    }
   ],
   "source": [
    "Feline_species=[\"Panther\",\"lion\",\"Tiger\",\"leopard\",\"Puma\",\"Cougar\",\"Cheetah\"]\n",
    "Feline_species.append(\"snow leopard\")\n",
    "for i in  Feline_species:\n",
    "    print(\"Animal is {}\".format(i))\n",
    "      "
   ]
  },
  {
   "cell_type": "code",
   "execution_count": 8,
   "metadata": {},
   "outputs": [
    {
     "name": "stdout",
     "output_type": "stream",
     "text": [
      "[1, 2, 3, 4, 5, 6, 7, 8]\n",
      "numbers in disarray\n"
     ]
    }
   ],
   "source": [
    "even=[2,4,6,8]\n",
    "odd=[1,3,5,7]\n",
    "numbers=even+odd\n",
    "ordered_numbers=sorted(numbers)\n",
    "print(ordered_numbers)\n",
    "\n",
    "if ordered_numbers==numbers:\n",
    "    print(\"numbers in order\")\n",
    "else:\n",
    "    print(\"numbers in disarray\")\n",
    "    "
   ]
  },
  {
   "cell_type": "code",
   "execution_count": 6,
   "metadata": {},
   "outputs": [
    {
     "name": "stdout",
     "output_type": "stream",
     "text": [
      "the list 1 is [] \n",
      "the list 2 is [] \n",
      "match\n",
      "['m', 'a', 't', 'c', 'h']\n"
     ]
    }
   ],
   "source": [
    "list1=[]\n",
    "list2=list() #constructor is being called without any parameters\n",
    "print(\"the list 1 is {} \".format(list1))\n",
    "print(\"the list 2 is {} \".format(list2))\n",
    "if list1==list2:\n",
    "    print(\"match\")\n",
    "else:\n",
    "    \n",
    "    print(\"match not found  \")\n",
    "    \n",
    "    \n",
    "print(list(\"match\"))\n",
    "\n",
    "\n"
   ]
  },
  {
   "cell_type": "code",
   "execution_count": 2,
   "metadata": {},
   "outputs": [
    {
     "name": "stdout",
     "output_type": "stream",
     "text": [
      "[2, 4, 6, 8]\n",
      "[8, 6, 4, 2]\n",
      "no match found\n"
     ]
    }
   ],
   "source": [
    "even=[2,4,6,8]\n",
    "another_even=list(even) #constructor is being called with  parameter as even.\n",
    "another_even.sort(reverse=True)\n",
    "print(even)\n",
    "print(another_even)\n",
    "\n",
    "if even== another_even:\n",
    "    print(\"match\")\n",
    "else:\n",
    "    print(\"no match found\")"
   ]
  },
  {
   "cell_type": "code",
   "execution_count": 28,
   "metadata": {},
   "outputs": [
    {
     "name": "stdout",
     "output_type": "stream",
     "text": [
      "[1, 3, 5, 7, 9]\n",
      "1\n",
      "3\n",
      "5\n",
      "7\n",
      "9\n",
      "[2, 4, 6, 8, 10]\n",
      "2\n",
      "4\n",
      "6\n",
      "8\n",
      "10\n"
     ]
    }
   ],
   "source": [
    "even=[2,4,6,8,10]\n",
    "odd=[1,3,5,7,9]\n",
    "numbers=[odd,even]\n",
    "for i in numbers:\n",
    "    print(i)\n",
    "    for j in i:\n",
    "        print(j)"
   ]
  },
  {
   "cell_type": "code",
   "execution_count": 29,
   "metadata": {},
   "outputs": [
    {
     "name": "stdout",
     "output_type": "stream",
     "text": [
      "['eggs', 'sausage', 'bacon']\n",
      "eggs\n",
      "sausage\n",
      "bacon\n"
     ]
    }
   ],
   "source": [
    "menu=[]\n",
    "menu.append([\"eggs\",\"spam\",\"bacon\"])\n",
    "menu.append([\"eggs\",\"sausage\",\"bacon\"])\n",
    "menu.append([\"eggs\",\"spam\"])\n",
    "menu.append([\"eggs\",\"bacon\",\"spam\"])\n",
    "menu.append([\"eggs\",\"bacon\",\"sausage\",\"spam\"])\n",
    "menu.append([\"spam\",\"eggs\",\"sausage\",\"bacon\"])\n",
    "menu.append([\"spam\",\"sausage\",\"eggs\",\"bacon\"])\n",
    "menu.append([\"spam\",\"eggs\",\"sausage\",\"spam\"])\n",
    "for meal in menu:\n",
    "    if not \"spam\" in meal:\n",
    "        print(meal)\n",
    "        for ingredients in meal:\n",
    "            print(ingredients)\n",
    "       "
   ]
  },
  {
   "cell_type": "code",
   "execution_count": 65,
   "metadata": {},
   "outputs": [
    {
     "name": "stdout",
     "output_type": "stream",
     "text": [
      "\n",
      "\n",
      "mealeggs\n",
      "e g g s \n",
      "\n",
      "mealbacon\n",
      "b a c o n "
     ]
    }
   ],
   "source": [
    "menu=[]\n",
    "menu.append([\"eggs\",\"spam\",\"bacon\"])\n",
    "menu.append([\"eggs\",\"sausage\",\"bacon\"])\n",
    "menu.append([\"eggs\",\"spam\"])\n",
    "menu.append([\"eggs\",\"bacon\",\"spam\"])\n",
    "menu.append([\"eggs\",\"bacon\",\"sausage\",\"spam\"])\n",
    "menu.append([\"spam\",\"eggs\",\"sausage\",\"bacon\"])\n",
    "menu.append([\"spam\",\"sausage\",\"eggs\",\"bacon\"])\n",
    "menu.append([\"spam\",\"eggs\",\"sausage\",\"spam\"])\n",
    "\n",
    "\n",
    "i=0\n",
    "for meal in menu[i]:\n",
    "    \n",
    "    \n",
    "    if  meal[i] in \"spam\":\n",
    "        \n",
    "        \n",
    "        continue\n",
    "        \n",
    "            \n",
    "    print(\"\\n\")    \n",
    "    print(\"meal\" +  meal)\n",
    "    for ingredients in meal:\n",
    "        print( ingredients,end=\" \")\n",
    "       "
   ]
  },
  {
   "cell_type": "code",
   "execution_count": 190,
   "metadata": {},
   "outputs": [
    {
     "name": "stdout",
     "output_type": "stream",
     "text": [
      "[6, 6, 5, 3, 2]\n",
      "enter the valuse of list2\n",
      "5\n",
      "runner up\n"
     ]
    }
   ],
   "source": [
    "list=[2,3,6,6,5]\n",
    "list.sort(reverse=True)\n",
    "print(list)\n",
    "i=int(input(\"enter the valuse of list\"))\n",
    "if list[i]==max(list):\n",
    "    print(\"winner\")\n",
    "elif list[i]==max(list)-1:\n",
    "    print(list[i])\n",
    "    print(\"runner up\")\n",
    "else:\n",
    "    print(\"you  are too far behind\")"
   ]
  },
  {
   "cell_type": "code",
   "execution_count": 184,
   "metadata": {},
   "outputs": [
    {
     "name": "stdout",
     "output_type": "stream",
     "text": [
      "5\n"
     ]
    }
   ],
   "source": [
    "list=[2,3,6,6,5]\n",
    "print(max(list)-1)"
   ]
  },
  {
   "cell_type": "code",
   "execution_count": 104,
   "metadata": {},
   "outputs": [
    {
     "ename": "AttributeError",
     "evalue": "'list' object has no attribute 'len'",
     "output_type": "error",
     "traceback": [
      "\u001b[1;31m---------------------------------------------------------------------------\u001b[0m",
      "\u001b[1;31mAttributeError\u001b[0m                            Traceback (most recent call last)",
      "\u001b[1;32m<ipython-input-104-4a51088d1368>\u001b[0m in \u001b[0;36m<module>\u001b[1;34m\u001b[0m\n\u001b[0;32m      1\u001b[0m \u001b[0mlist\u001b[0m\u001b[1;33m=\u001b[0m\u001b[1;33m[\u001b[0m\u001b[1;34m'apple'\u001b[0m\u001b[1;33m,\u001b[0m\u001b[1;34m'mango'\u001b[0m\u001b[1;33m,\u001b[0m\u001b[1;34m'orange'\u001b[0m\u001b[1;33m,\u001b[0m\u001b[1;34m'banana'\u001b[0m\u001b[1;33m,\u001b[0m\u001b[1;34m'pears'\u001b[0m\u001b[1;33m]\u001b[0m\u001b[1;33m\u001b[0m\u001b[1;33m\u001b[0m\u001b[0m\n\u001b[0;32m      2\u001b[0m \u001b[0mmy_iterator\u001b[0m\u001b[1;33m=\u001b[0m\u001b[0miter\u001b[0m\u001b[1;33m(\u001b[0m\u001b[0mlist\u001b[0m\u001b[1;33m)\u001b[0m\u001b[1;33m\u001b[0m\u001b[1;33m\u001b[0m\u001b[0m\n\u001b[1;32m----> 3\u001b[1;33m \u001b[0mn\u001b[0m\u001b[1;33m=\u001b[0m\u001b[0mlist\u001b[0m\u001b[1;33m.\u001b[0m\u001b[0mlen\u001b[0m\u001b[1;33m(\u001b[0m\u001b[1;33m)\u001b[0m\u001b[1;33m\u001b[0m\u001b[1;33m\u001b[0m\u001b[0m\n\u001b[0m\u001b[0;32m      4\u001b[0m \u001b[1;32mfor\u001b[0m \u001b[0mi\u001b[0m \u001b[1;32min\u001b[0m \u001b[0mrange\u001b[0m\u001b[1;33m(\u001b[0m\u001b[0mn\u001b[0m\u001b[1;33m)\u001b[0m\u001b[1;33m:\u001b[0m\u001b[1;33m\u001b[0m\u001b[1;33m\u001b[0m\u001b[0m\n\u001b[0;32m      5\u001b[0m \u001b[1;33m\u001b[0m\u001b[0m\n",
      "\u001b[1;31mAttributeError\u001b[0m: 'list' object has no attribute 'len'"
     ]
    }
   ],
   "source": [
    "list=['apple','mango','orange','banana','pears']\n",
    "my_iterator=iter(list)\n",
    "n=list.len()\n",
    "for i in range(n):\n",
    "    \n",
    "    print(next(my_iterator))\n",
    "    \n",
    "    \n",
    " \n",
    "print(\"\\n\")    \n",
    "for i in list:\n",
    "    print(i)"
   ]
  },
  {
   "cell_type": "code",
   "execution_count": 115,
   "metadata": {},
   "outputs": [
    {
     "name": "stdout",
     "output_type": "stream",
     "text": [
      "apple\n",
      "mango\n",
      "orange\n",
      "banana\n",
      "pears\n"
     ]
    },
    {
     "ename": "StopIteration",
     "evalue": "",
     "output_type": "error",
     "traceback": [
      "\u001b[1;31m---------------------------------------------------------------------------\u001b[0m",
      "\u001b[1;31mStopIteration\u001b[0m                             Traceback (most recent call last)",
      "\u001b[1;32m<ipython-input-115-c5c746ec0ee8>\u001b[0m in \u001b[0;36m<module>\u001b[1;34m\u001b[0m\n\u001b[0;32m      7\u001b[0m \u001b[0mprint\u001b[0m\u001b[1;33m(\u001b[0m\u001b[0mnext\u001b[0m\u001b[1;33m(\u001b[0m\u001b[0mmy_iterator\u001b[0m\u001b[1;33m)\u001b[0m\u001b[1;33m)\u001b[0m\u001b[1;33m\u001b[0m\u001b[1;33m\u001b[0m\u001b[0m\n\u001b[0;32m      8\u001b[0m \u001b[0mprint\u001b[0m\u001b[1;33m(\u001b[0m\u001b[0mnext\u001b[0m\u001b[1;33m(\u001b[0m\u001b[0mmy_iterator\u001b[0m\u001b[1;33m)\u001b[0m\u001b[1;33m)\u001b[0m\u001b[1;33m\u001b[0m\u001b[1;33m\u001b[0m\u001b[0m\n\u001b[1;32m----> 9\u001b[1;33m \u001b[0mprint\u001b[0m\u001b[1;33m(\u001b[0m\u001b[0mnext\u001b[0m\u001b[1;33m(\u001b[0m\u001b[0mmy_iterator\u001b[0m\u001b[1;33m)\u001b[0m\u001b[1;33m)\u001b[0m\u001b[1;33m\u001b[0m\u001b[1;33m\u001b[0m\u001b[0m\n\u001b[0m\u001b[0;32m     10\u001b[0m \u001b[1;33m\u001b[0m\u001b[0m\n",
      "\u001b[1;31mStopIteration\u001b[0m: "
     ]
    }
   ],
   "source": [
    "list=['apple','mango','orange','banana','pears']\n",
    "my_iterator=iter(list)\n",
    "\n",
    "print(next(my_iterator))\n",
    "print(next(my_iterator))\n",
    "print(next(my_iterator))\n",
    "print(next(my_iterator))\n",
    "print(next(my_iterator))\n",
    "print(next(my_iterator))\n",
    "\n"
   ]
  },
  {
   "cell_type": "code",
   "execution_count": 6,
   "metadata": {},
   "outputs": [
    {
     "name": "stdout",
     "output_type": "stream",
     "text": [
      "[0, 1, 2, 3, 4, 5, 6, 7, 8, 9]\n",
      "\n",
      "\n",
      "[0, 2, 4, 6, 8, 10, 12, 14, 16, 18, 20, 22, 24, 26, 28, 30, 32, 34, 36, 38, 40, 42, 44, 46, 48, 50, 52, 54, 56, 58, 60, 62, 64, 66, 68, 70, 72, 74, 76, 78, 80, 82, 84, 86, 88, 90, 92, 94, 96, 98]\n",
      "\n",
      "\n",
      "[0, 1, 2, 3, 4, 5, 6, 7, 8, 9, 10, 11, 12, 13, 14, 15, 16, 17, 18, 19, 20, 21, 22, 23, 24, 25, 26, 27, 28, 29, 30, 31, 32, 33, 34, 35, 36, 37, 38, 39, 40, 41, 42, 43, 44, 45, 46, 47, 48, 49, 50, 51, 52, 53, 54, 55, 56, 57, 58, 59, 60, 61, 62, 63, 64, 65, 66, 67, 68, 69, 70, 71, 72, 73, 74, 75, 76, 77, 78, 79, 80, 81, 82, 83, 84, 85, 86, 87, 88, 89, 90, 91, 92, 93, 94, 95, 96, 97, 98, 99]\n"
     ]
    }
   ],
   "source": [
    "my_list=list(range(10))\n",
    "print(my_list)\n",
    "\n",
    "even=list(range(0,100,2))\n",
    "odd=list(range(0,100,1))\n",
    "print(\"\\n\")\n",
    "\n",
    "print(even)\n",
    "print(\"\\n\")\n",
    "print(odd)\n"
   ]
  },
  {
   "cell_type": "code",
   "execution_count": 3,
   "metadata": {},
   "outputs": [
    {
     "name": "stdout",
     "output_type": "stream",
     "text": [
      "4\n",
      "8\n"
     ]
    }
   ],
   "source": [
    "string=\"12345566577454858uirohsojfslfjslt34tl\"\n",
    "print(string.index('5'))\n",
    "print(string[16])\n"
   ]
  },
  {
   "cell_type": "code",
   "execution_count": 19,
   "metadata": {},
   "outputs": [
    {
     "name": "stdout",
     "output_type": "stream",
     "text": [
      "range(1, 150, 2)\n",
      "47\n",
      "11\n",
      "[1, 3, 5, 7, 9, 11, 13, 15, 17, 19, 21, 23, 25, 27, 29, 31, 33, 35, 37, 39, 41, 43, 45, 47, 49, 51, 53, 55, 57, 59, 61, 63, 65, 67, 69, 71, 73, 75, 77, 79, 81, 83, 85, 87, 89, 91, 93, 95, 97, 99, 101, 103, 105, 107, 109, 111, 113, 115, 117, 119, 121, 123, 125, 127, 129, 131, 133, 135, 137, 139, 141, 143, 145, 147, 149]\n"
     ]
    }
   ],
   "source": [
    "Decimals=range(1,150,2)\n",
    "print(Decimals)\n",
    "print(Decimals[23])\n",
    "print(Decimals.index(23))\n",
    "print(list(Decimals))"
   ]
  },
  {
   "cell_type": "code",
   "execution_count": 128,
   "metadata": {},
   "outputs": [
    {
     "name": "stdout",
     "output_type": "stream",
     "text": [
      "enter the value less than 30? 21\n",
      "21 is divisble by 7\n"
     ]
    }
   ],
   "source": [
    "sevens=range(0,100,7)\n",
    "x=int(input(\"enter the value less than 30? \"))\n",
    "if x in sevens:\n",
    "    \n",
    "    print(\"{} is divisble by 7\".format(x))"
   ]
  },
  {
   "cell_type": "code",
   "execution_count": 7,
   "metadata": {},
   "outputs": [
    {
     "name": "stdout",
     "output_type": "stream",
     "text": [
      "[0, 7, 14, 21, 28, 35, 42, 49, 56, 63, 70, 77, 84, 91, 98]\n"
     ]
    }
   ],
   "source": [
    "sevens=range(0,100,7)\n",
    "\n",
    "print(list(sevens))"
   ]
  },
  {
   "cell_type": "code",
   "execution_count": 130,
   "metadata": {},
   "outputs": [
    {
     "name": "stdout",
     "output_type": "stream",
     "text": [
      "45\n",
      "\n",
      "\n",
      "40\n",
      "\n",
      "\n",
      "35\n",
      "\n",
      "\n",
      "30\n",
      "\n",
      "\n",
      "25\n",
      "\n",
      "\n",
      "20\n",
      "\n",
      "\n",
      "15\n",
      "\n",
      "\n",
      "10\n",
      "\n",
      "\n",
      "5\n",
      "\n",
      "\n",
      "0\n",
      "\n",
      "\n"
     ]
    }
   ],
   "source": [
    "y=range(0,50,5)\n",
    "for i in y[::-1]:\n",
    "    print(i)\n",
    "    print(\"\\n\")\n",
    "    "
   ]
  },
  {
   "cell_type": "code",
   "execution_count": 131,
   "metadata": {},
   "outputs": [
    {
     "name": "stdout",
     "output_type": "stream",
     "text": [
      "50\n",
      "45\n",
      "40\n",
      "35\n",
      "30\n",
      "25\n",
      "20\n",
      "15\n",
      "10\n",
      "5\n"
     ]
    }
   ],
   "source": [
    "y=range(50,0,-5)\n",
    "for i in y:\n",
    "    \n",
    "    print(i)"
   ]
  },
  {
   "cell_type": "code",
   "execution_count": 162,
   "metadata": {},
   "outputs": [
    {
     "name": "stdout",
     "output_type": "stream",
     "text": [
      "XXXXXXXXXXXXXXXXXXXX\n",
      "XXXXXXXXXXXXXXXXXXXX\n",
      "XXXXXXXXXXXXXXXXXXXX\n",
      "XXXXXXXXXXXXXXXXXXXX\n",
      "XXXXXXXXXXXXXXXXXXXX\n",
      "XXXXXXXXXXXXXXXXXXXX\n",
      "XXXXXXXXXXXXXXXXXXXX\n",
      "XXXXXXXXXXXXXXXXXXXX\n",
      "XXXXXXXXXXXXXXXXXXXX\n",
      "XXXXXXXXXXXXXXXXXXXX\n",
      "\n",
      "\n",
      "-x-x-x-x-x-x-x-x-x-x--x-x-x-x-x-x--x-x-x-x-x--x-x--x-x--x-x--x-x--x-x--x-x-x--x-x-x-x--x-x-x--x--x-x--x-x-x-x--x-x-x--x\n",
      "\n",
      "\n",
      "XXXXXXXXXXXXXXXXXXXX\n",
      "XXXXXXXXXXXXXXXXXXXX\n",
      "XXXXXXXXXXXXXXXXXXXX\n",
      "XXXXXXXXXXXXXXXXXXXX\n",
      "XXXXXXXXXXXXXXXXXXXX\n",
      "XXXXXXXXXXXXXXXXXXXX\n",
      "XXXXXXXXXXXXXXXXXXXX\n",
      "XXXXXXXXXXXXXXXXXXXX\n",
      "XXXXXXXXXXXXXXXXXXXX\n",
      "XXXXXXXXXXXXXXXXXXXX\n",
      "False\n"
     ]
    }
   ],
   "source": [
    "decimals=range(0,50)\n",
    "my_range=decimals[0:50:5]\n",
    "for i in my_range:\n",
    "    print('X'* 20 )\n",
    "print(\"\\n\")\n",
    "print(\"-x-x-x-x-x-x-x-x-x-x--x-x-x-x-x-x--x-x-x-x-x--x-x--x-x--x-x--x-x--x-x--x-x-x--x-x-x-x--x-x-x--x--x-x--x-x-x-x--x-x-x--x\")\n",
    "print(\"\\n\")\n",
    "\n",
    "    \n",
    "    \n",
    "for i in range(0,50,5):\n",
    "    print('X' * 20)\n",
    "    \n",
    "    \n",
    "print(my_range==i)\n",
    "    \n",
    "    "
   ]
  },
  {
   "cell_type": "code",
   "execution_count": 176,
   "metadata": {},
   "outputs": [
    {
     "name": "stdout",
     "output_type": "stream",
     "text": [
      "range(0, 30, 2)\n",
      "0\n",
      "10\n",
      "20\n"
     ]
    }
   ],
   "source": [
    "o=range(0,30,2)\n",
    "print(o)\n",
    "\n",
    "p=o[::5]\n",
    "for i in p:\n",
    "    print(i)\n"
   ]
  },
  {
   "cell_type": "code",
   "execution_count": 40,
   "metadata": {},
   "outputs": [
    {
     "name": "stdout",
     "output_type": "stream",
     "text": [
      "[19, 18, 17, 16, 15, 14, 13, 12, 11, 10, 9, 8, 7, 6, 5, 4, 3, 2, 1, 0]\n"
     ]
    }
   ],
   "source": [
    "r=range(0,20)\n",
    "print( list(r[::-1]))\n",
    "\n",
    "\n",
    "  "
   ]
  },
  {
   "cell_type": "code",
   "execution_count": 47,
   "metadata": {},
   "outputs": [
    {
     "name": "stdout",
     "output_type": "stream",
     "text": [
      "range(3, 40, 3)\n",
      "[3, 6, 9, 12, 15, 18, 21, 24, 27, 30, 33, 36, 39]\n",
      "3\n",
      "6\n",
      "9\n",
      "12\n",
      "15\n",
      "18\n",
      "21\n",
      "24\n",
      "27\n",
      "30\n",
      "33\n",
      "36\n",
      "39\n",
      "True\n"
     ]
    }
   ],
   "source": [
    "decimals=range(0,100)\n",
    "my_range=decimals[3:40:3]\n",
    "print(my_range)\n",
    "print(list(my_range))\n",
    "for i in my_range:\n",
    "    print(i)\n",
    "print(my_range==range(3,40,3))\n"
   ]
  },
  {
   "cell_type": "code",
   "execution_count": 8,
   "metadata": {},
   "outputs": [
    {
     "name": "stdout",
     "output_type": "stream",
     "text": [
      "('name', 'address', 'age')\n",
      "('name', 'Addresses', 'age')\n"
     ]
    }
   ],
   "source": [
    "#objects are immutable not  variables\n",
    "t=(\"name\",\"address\",\"age\")\n",
    "print(t)\n",
    "t=t[0],\"Addresses\",t[2]\n",
    "print(t)\n"
   ]
  },
  {
   "cell_type": "code",
   "execution_count": 2,
   "metadata": {},
   "outputs": [
    {
     "name": "stdout",
     "output_type": "stream",
     "text": [
      "13 12\n"
     ]
    }
   ],
   "source": [
    "a,b=12,13\n",
    "a,b=b,a\n",
    "print(a,b)"
   ]
  },
  {
   "cell_type": "code",
   "execution_count": 3,
   "metadata": {},
   "outputs": [
    {
     "ename": "NameError",
     "evalue": "name 't' is not defined",
     "output_type": "error",
     "traceback": [
      "\u001b[1;31m---------------------------------------------------------------------------\u001b[0m",
      "\u001b[1;31mNameError\u001b[0m                                 Traceback (most recent call last)",
      "\u001b[1;32m<ipython-input-3-a405affd8614>\u001b[0m in \u001b[0;36m<module>\u001b[1;34m\u001b[0m\n\u001b[0;32m      1\u001b[0m \u001b[1;31m#unpacking of tuple\u001b[0m\u001b[1;33m\u001b[0m\u001b[1;33m\u001b[0m\u001b[1;33m\u001b[0m\u001b[0m\n\u001b[1;32m----> 2\u001b[1;33m \u001b[0mx\u001b[0m\u001b[1;33m,\u001b[0m\u001b[0my\u001b[0m\u001b[1;33m,\u001b[0m\u001b[0mz\u001b[0m\u001b[1;33m=\u001b[0m\u001b[0mt\u001b[0m\u001b[1;33m\u001b[0m\u001b[1;33m\u001b[0m\u001b[0m\n\u001b[0m\u001b[0;32m      3\u001b[0m \u001b[0mprint\u001b[0m\u001b[1;33m(\u001b[0m\u001b[0mx\u001b[0m\u001b[1;33m,\u001b[0m\u001b[0my\u001b[0m\u001b[1;33m,\u001b[0m\u001b[0mz\u001b[0m\u001b[1;33m)\u001b[0m\u001b[1;33m\u001b[0m\u001b[1;33m\u001b[0m\u001b[0m\n",
      "\u001b[1;31mNameError\u001b[0m: name 't' is not defined"
     ]
    }
   ],
   "source": [
    "#unpacking of tuple\n",
    "x,y,z=t\n",
    "print(x,y,z)"
   ]
  },
  {
   "cell_type": "code",
   "execution_count": 22,
   "metadata": {},
   "outputs": [
    {
     "name": "stdout",
     "output_type": "stream",
     "text": [
      "18, 16, 14, 12, 10, 8, 6, 4, 2, 0, "
     ]
    }
   ],
   "source": [
    "even = range(0, 20, 2)\n",
    " \n",
    "for number in even[::-1]:\n",
    "    print(number, end=', ')\n",
    "    \n"
   ]
  },
  {
   "cell_type": "code",
   "execution_count": 31,
   "metadata": {},
   "outputs": [
    {
     "name": "stdout",
     "output_type": "stream",
     "text": [
      "Add options from list below:\n",
      "1:Modem\n",
      "2:CPU\n",
      "3:Printer\n",
      "4:Keyboard\n",
      "5:Harddisk\n",
      "6:Mouse\n",
      "7:Mouse\n",
      "0:Finish\n",
      "1\n",
      "adding 1\n",
      "2\n",
      "adding 2\n",
      "3\n",
      "adding 3\n",
      "\n",
      "4\n",
      "adding 4\n",
      "5\n",
      "adding 5\n",
      "5\n",
      "adding 5\n",
      "5\n",
      "adding 5\n",
      "66\n",
      "Add options from list below:\n",
      "1:Modem\n",
      "2:CPU\n",
      "3:Printer\n",
      "4:Keyboard\n",
      "5:Harddisk\n",
      "6:Mouse\n",
      "7:Mouse\n",
      "0:Finish\n",
      "\n",
      "0\n",
      "['Modem', 'CPU', 'Printer', 'Keyboard', 'Harddisk', 'Harddisk', 'Harddisk']\n"
     ]
    }
   ],
   "source": [
    "current_choice=\"_\"\n",
    "\n",
    "computer_parts=[] #empty list\n",
    "while current_choice!='0':\n",
    "    if current_choice in \"1234567\":\n",
    "        if current_choice== \"1\":\n",
    "            computer_parts.append(\"Modem\")\n",
    "            \n",
    "            print(\"adding {}\".format(current_choice))\n",
    "        elif current_choice==\"2\":\n",
    "            computer_parts.append(\"CPU\")\n",
    "            \n",
    "            print(\"adding {}\".format(current_choice))\n",
    "        elif current_choice==\"3\":\n",
    "            computer_parts.append(\"Printer\")\n",
    "            \n",
    "            print(\"adding {}\".format(current_choice))\n",
    "        elif current_choice==\"4\":\n",
    "            computer_parts.append(\"Keyboard\")\n",
    "            \n",
    "            print(\"adding {}\".format(current_choice))\n",
    "        elif current_choice==\"5\":\n",
    "            \n",
    "            computer_parts.append(\"Harddisk\")\n",
    "\n",
    "            print(\"adding {}\".format(current_choice))\n",
    "            \n",
    "        elif current_choice==\"6\":\n",
    "             computer_parts.append(\"Mouse\")\n",
    "             print(\"adding {}\".format(current_choice))\n",
    "            \n",
    "        elif current_choice==\"7\":\n",
    "             computer_parts.append(\"HDMI Cable\")\n",
    "             print(\"adding {}\".format(current_choice))\n",
    "                \n",
    "    else:\n",
    "        print(\"Add options from list below:\")\n",
    "        print(\"1:Modem\")\n",
    "        print(\"2:CPU\")\n",
    "        print(\"3:Printer\")\n",
    "        print(\"4:Keyboard\")\n",
    "        print(\"5:Harddisk\")\n",
    "        print(\"6:Mouse\")\n",
    "        print(\"7:Mouse\")\n",
    "        print(\"0:Finish\")\n",
    "        \n",
    "    current_choice=input()\n",
    "    \n",
    "print(computer_parts)\n",
    "            \n",
    "\n"
   ]
  },
  {
   "cell_type": "code",
   "execution_count": 6,
   "metadata": {},
   "outputs": [
    {
     "name": "stdout",
     "output_type": "stream",
     "text": [
      "From List of items below:\n",
      "1:Modem\n",
      "2:CPU\n",
      "3:Printer\n",
      "4:Keyboard\n",
      "5:Harddisk\n",
      "6:Mouse\n",
      "7:HDMI Cable\n",
      "1\n",
      "adding 1\n",
      "2\n",
      "adding 2\n",
      "3\n",
      "adding 3\n",
      "4\n",
      "adding 4\n",
      "5\n",
      "adding 5\n",
      "6\n",
      "adding 6\n",
      "7\n",
      "adding 7\n",
      "8\n",
      "From List of items below:\n",
      "1:Modem\n",
      "2:CPU\n",
      "3:Printer\n",
      "4:Keyboard\n",
      "5:Harddisk\n",
      "6:Mouse\n",
      "7:HDMI Cable\n",
      "0\n",
      "['Modem', 'CPU', 'Printer', 'Keyboard', 'Harddisk', 'Mouse', 'HDMI Cable']\n"
     ]
    }
   ],
   "source": [
    "current_choice=\"_\"\n",
    "computer_parts=[]\n",
    "available_parts=[\"Modem\",\"CPU\",\"Printer\",\"Keyboard\",\"Harddisk\",\"Mouse\",\"HDMI Cable\"]\n",
    "\n",
    "while current_choice!='0':\n",
    "    if current_choice in\"1234567\":\n",
    "        if current_choice==\"1\":\n",
    "            computer_parts.append(\"Modem\")\n",
    "            \n",
    "            print(\"adding {}\".format(current_choice))\n",
    "\n",
    "        elif current_choice==\"2\":\n",
    "            computer_parts.append(\"CPU\")\n",
    "            print(\"adding {}\".format(current_choice))\n",
    "\n",
    "        elif current_choice==\"3\":\n",
    "            computer_parts.append(\"Printer\")\n",
    "            print(\"adding {}\".format(current_choice))\n",
    "\n",
    "        elif current_choice==\"4\":\n",
    "            computer_parts.append(\"Keyboard\")\n",
    "            print(\"adding {}\".format(current_choice))\n",
    "\n",
    "        elif current_choice==\"5\":\n",
    "            computer_parts.append(\"Harddisk\")\n",
    "            print(\"adding {}\".format(current_choice))\n",
    "\n",
    "        elif current_choice==\"6\":\n",
    "            computer_parts.append(\"Mouse\")\n",
    "            print(\"adding {}\".format(current_choice))\n",
    "\n",
    "        elif current_choice==\"7\":\n",
    "            computer_parts.append(\"HDMI Cable\")\n",
    "            print(\"adding {}\".format(current_choice))\n",
    "\n",
    "    else:\n",
    "        print(\"From List of items below:\")\n",
    "            \n",
    "        for parts in available_parts:\n",
    "            \n",
    "                \n",
    "                \n",
    "            print(\"{0}:{1}\".format(available_parts.index(parts)+1,parts))\n",
    "            \n",
    "                      \n",
    "    current_choice = input()\n",
    "                      \n",
    "print(computer_parts)\n",
    "                  \n",
    "                         "
   ]
  },
  {
   "cell_type": "code",
   "execution_count": 11,
   "metadata": {},
   "outputs": [
    {
     "name": "stdout",
     "output_type": "stream",
     "text": [
      "From List of items below:\n",
      "1:Modem\n",
      "2:CPU\n",
      "3:Printer\n",
      "4:Keyboard\n",
      "5:Harddisk\n",
      "6:Mouse\n",
      "7:HDMI Cable\n",
      "1\n",
      "adding 1\n",
      "2\n",
      "adding 2\n",
      "3\n",
      "adding 3\n",
      "5\n",
      "adding 5\n",
      "9\n",
      "From List of items below:\n",
      "1:Modem\n",
      "2:CPU\n",
      "3:Printer\n",
      "4:Keyboard\n",
      "5:Harddisk\n",
      "6:Mouse\n",
      "7:HDMI Cable\n",
      "0\n",
      "['Modem', 'CPU', 'Printer', 'Harddisk']\n"
     ]
    }
   ],
   "source": [
    "current_choice=\"_\"\n",
    "computer_parts=[]\n",
    "available_parts=[\"Modem\",\"CPU\",\"Printer\",\"Keyboard\",\"Harddisk\",\"Mouse\",\"HDMI Cable\"]\n",
    "\n",
    "while current_choice!='0':\n",
    "    if current_choice in\"1234567\":\n",
    "        if current_choice==\"1\":\n",
    "            computer_parts.append(\"Modem\")\n",
    "            \n",
    "            print(\"adding {}\".format(current_choice))\n",
    "\n",
    "        elif current_choice==\"2\":\n",
    "            computer_parts.append(\"CPU\")\n",
    "            print(\"adding {}\".format(current_choice))\n",
    "\n",
    "        elif current_choice==\"3\":\n",
    "            computer_parts.append(\"Printer\")\n",
    "            print(\"adding {}\".format(current_choice))\n",
    "\n",
    "        elif current_choice==\"4\":\n",
    "            computer_parts.append(\"Keyboard\")\n",
    "            print(\"adding {}\".format(current_choice))\n",
    "\n",
    "        elif current_choice==\"5\":\n",
    "            computer_parts.append(\"Harddisk\")\n",
    "            print(\"adding {}\".format(current_choice))\n",
    "\n",
    "        elif current_choice==\"6\":\n",
    "            computer_parts.append(\"Mouse\")\n",
    "            print(\"adding {}\".format(current_choice))\n",
    "\n",
    "        elif current_choice==\"7\":\n",
    "            computer_parts.append(\"HDMI Cable\")\n",
    "            print(\"adding {}\".format(current_choice))\n",
    "\n",
    "    else:\n",
    "        print(\"From List of items below:\")\n",
    "        \n",
    "            \n",
    "        for number,parts in enumerate(available_parts):\n",
    "            \n",
    "        \n",
    "            \n",
    "                \n",
    "                \n",
    "            print(\"{0}:{1}\".format(number+1,parts))\n",
    "            \n",
    "                      \n",
    "    current_choice = input()\n",
    "                      \n",
    "print(computer_parts)\n",
    "                  \n",
    "                         "
   ]
  },
  {
   "cell_type": "code",
   "execution_count": 5,
   "metadata": {},
   "outputs": [
    {
     "name": "stdout",
     "output_type": "stream",
     "text": [
      "['1', '2', '3', '4', '5', '6', '7']\n",
      "From List of items below:\n",
      "1:Modem\n",
      "2:CPU\n",
      "3:Printer\n",
      "4:Keyboard\n",
      "5:Harddisk\n",
      "6:Mouse\n",
      "7:HDMI Cable\n",
      "1\n",
      "adding 1\n",
      "2\n",
      "adding 2\n",
      "3\n",
      "adding 3\n",
      "0\n",
      "['Modem', 'CPU', 'Printer']\n"
     ]
    }
   ],
   "source": [
    "#refactoringthecode\n",
    "current_choice=\"_\"\n",
    "computer_parts=[]\n",
    "available_parts=[\"Modem\",\"CPU\",\"Printer\",\"Keyboard\",\"Harddisk\",\"Mouse\",\"HDMI Cable\"]\n",
    "\n",
    "\n",
    "valid_choices=[]\n",
    "\n",
    "for i in range(1,len(available_parts)+1):\n",
    "    \n",
    "    valid_choices.append(str(i))\n",
    "print(valid_choices)\n",
    "    \n",
    "    \n",
    "    \n",
    "    \n",
    "\n",
    "while current_choice!='0':\n",
    "    if current_choice in valid_choices:\n",
    "        index=int(current_choice)-1\n",
    "        choice=available_parts[index]\n",
    "        computer_parts.append(choice)\n",
    "        \n",
    "        \n",
    "        print(\"adding {}\".format(current_choice))\n",
    "            \n",
    "            \n",
    "\n",
    "        \n",
    "    else:\n",
    "        print(\"From List of items below:\")\n",
    "        \n",
    "            \n",
    "        for number,parts in enumerate(available_parts):\n",
    "            \n",
    "        \n",
    "            print(\"{0}:{1}\".format(number+1,parts))\n",
    "            \n",
    "                      \n",
    "    current_choice = input()\n",
    "                      \n",
    "print(computer_parts)\n",
    "                  \n",
    "                         "
   ]
  },
  {
   "cell_type": "code",
   "execution_count": 6,
   "metadata": {},
   "outputs": [
    {
     "name": "stdout",
     "output_type": "stream",
     "text": [
      "['Bellflower - Flower', 'China Pink - Flower', 'Daffodil - Flower', 'Evening Primrose - Flower', 'French Marigold - Flower', 'Iris - Flower', \"Queen Anne's Lace - Flower\", 'Red Hot Poker - Flower', 'Snapdragon - Flower', 'Sunflower - Flower', 'Tiger Lily - Flower']\n",
      "['Andromeda - Shrub', 'Hydrangea - Shrub', 'Japanese Camellia - Shrub', 'Lavender - Shrub', 'Lilac- Shrub', 'Magnolia - Shrub', 'Peony - Shrub', 'Witch Hazel - Shrub']\n"
     ]
    }
   ],
   "source": [
    "data = [\n",
    "    \"Andromeda - Shrub\",\n",
    "    \"Bellflower - Flower\",\n",
    "    \"China Pink - Flower\",\n",
    "    \"Daffodil - Flower\",\n",
    "    \"Evening Primrose - Flower\",\n",
    "    \"French Marigold - Flower\",\n",
    "    \"Hydrangea - Shrub\",\n",
    "    \"Iris - Flower\",\n",
    "    \"Japanese Camellia - Shrub\",\n",
    "    \"Lavender - Shrub\",\n",
    "    \"Lilac- Shrub\",\n",
    "    \"Magnolia - Shrub\",\n",
    "    \"Peony - Shrub\",\n",
    "    \"Queen Anne's Lace - Flower\",\n",
    "    \"Red Hot Poker - Flower\",\n",
    "    \"Snapdragon - Flower\",\n",
    "    \"Sunflower - Flower\",\n",
    "    \"Tiger Lily - Flower\",\n",
    "    \"Witch Hazel - Shrub\",\n",
    "]\n",
    "\n",
    "flowers = [Flower for Flower in data  if \"Flower\" in Flower]\n",
    "shrubs = [Shrub for Shrub in data  if \"Shrub\" in Shrub]\n",
    "print(flowers)\n",
    "print(shrubs)\n"
   ]
  },
  {
   "cell_type": "code",
   "execution_count": 6,
   "metadata": {},
   "outputs": [
    {
     "name": "stdout",
     "output_type": "stream",
     "text": [
      "['1', '2', '3', '4', '5', '6', '7']\n",
      "From List of items below:\n",
      "1:Modem\n",
      "2:CPU\n",
      "3:Printer\n",
      "4:Keyboard\n",
      "5:Harddisk\n",
      "6:Mouse\n",
      "7:HDMI Cable\n",
      "1\n",
      "Adding 1\n",
      "your list now contains ['Modem']\n",
      "2\n",
      "Adding 2\n",
      "your list now contains ['Modem', 'CPU']\n",
      "3\n",
      "Adding 3\n",
      "your list now contains ['Modem', 'CPU', 'Printer']\n",
      "4\n",
      "Adding 4\n",
      "your list now contains ['Modem', 'CPU', 'Printer', 'Keyboard']\n",
      "3\n",
      "Removing 3\n",
      "your list now contains ['Modem', 'CPU', 'Keyboard']\n",
      "0\n",
      "['Modem', 'CPU', 'Keyboard']\n"
     ]
    }
   ],
   "source": [
    "#RemovingitemsformList\n",
    "current_choice=\"_\"\n",
    "computer_parts=[]\n",
    "available_parts=[\"Modem\",\"CPU\",\"Printer\",\"Keyboard\",\"Harddisk\",\"Mouse\",\"HDMI Cable\"]\n",
    "\n",
    "\n",
    "valid_choices=[]\n",
    "\n",
    "for i in range(1,len(available_parts)+1):\n",
    "    \n",
    "    valid_choices.append(str(i))\n",
    "print(valid_choices)\n",
    "    \n",
    "while current_choice!='0':\n",
    "    if current_choice in valid_choices:\n",
    "        index=int(current_choice)-1\n",
    "        choice=available_parts[index]\n",
    "        if choice in computer_parts:\n",
    "            print(\"Removing {}\".format(current_choice))\n",
    "            computer_parts.remove(choice)\n",
    "        else:\n",
    "            print(\"Adding {}\".format(current_choice))\n",
    "            \n",
    "            computer_parts.append(choice)\n",
    "        print(\"your list now contains {}\".format(computer_parts))\n",
    "\n",
    "            \n",
    "    else:\n",
    "        print(\"From List of items below:\")\n",
    "        \n",
    "            \n",
    "        for number,parts in enumerate(available_parts):\n",
    "            \n",
    "        \n",
    "            print(\"{0}:{1}\".format(number+1,parts))\n",
    "            \n",
    "                      \n",
    "    current_choice = input()\n",
    "                      \n",
    "print(computer_parts)\n",
    "                  \n",
    "                         "
   ]
  },
  {
   "cell_type": "code",
   "execution_count": 10,
   "metadata": {},
   "outputs": [
    {
     "name": "stdout",
     "output_type": "stream",
     "text": [
      "[2, 4, 6, 8, 1, 3, 5, 7]\n",
      "[2, 4, 6, 8, 1, 3, 5, 7]\n",
      "[8, 7, 6, 5, 4, 3, 2, 1]\n",
      "[8, 7, 6, 5, 4, 3, 2, 1]\n"
     ]
    }
   ],
   "source": [
    "even=[2,4,6,8]\n",
    "odd=[1,3,5,7]\n",
    "even.extend(odd)\n",
    "print(even)\n",
    "another_even=even\n",
    "print(another_even)\n",
    "\n",
    "even.sort(reverse=True)\n",
    "print(even)\n",
    "print(another_even)\n",
    "\n"
   ]
  },
  {
   "cell_type": "code",
   "execution_count": 1,
   "metadata": {},
   "outputs": [
    {
     "name": "stdout",
     "output_type": "stream",
     "text": [
      "[' ', ' ', ' ', ' ', ' ', ' ', ' ', 'a', 'b', 'c', 'd', 'e', 'e', 'f', 'g', 'h', 'i', 'j', 'k', 'l', 'm', 'n', 'o', 'o', 'o', 'o', 'p', 'q', 'r', 'r', 's', 't', 'u', 'u', 'v', 'w', 'x', 'y', 'z']\n",
      "[1, 1, 2, 4, 5, 7, 9, 11]\n",
      "[1, 1, 2, 4, 5, 7, 9, 11]\n"
     ]
    }
   ],
   "source": [
    "pangram=\"the quick brown fox jumps over lazy dog\"\n",
    "letters=sorted(pangram)\n",
    "print(letters)\n",
    "\n",
    "numbers=[1,2,4,7,9,11,1,5]\n",
    "m=sorted(numbers)\n",
    "print(m)\n",
    "\n",
    "numbers.sort()\n",
    "print(numbers)"
   ]
  },
  {
   "cell_type": "code",
   "execution_count": 2,
   "metadata": {},
   "outputs": [
    {
     "name": "stdout",
     "output_type": "stream",
     "text": [
      "['eon', 'fiat', 'Honda', 'Hyundai', 'maruti', 'Tata']\n"
     ]
    }
   ],
   "source": [
    "\n",
    "#caseinsensitivesorting\n",
    "car_names=[\"eon\",\"maruti\",\"Hyundai\",\"Honda\",\"Tata\",\"fiat\"]\n",
    "car_names.sort(key=str.casefold)\n",
    "\n",
    "print(car_names)\n"
   ]
  },
  {
   "cell_type": "code",
   "execution_count": 12,
   "metadata": {},
   "outputs": [
    {
     "name": "stdout",
     "output_type": "stream",
     "text": [
      "[2, 4, 6, 8, 1, 3, 5, 7]\n",
      "[1, 2, 3, 4, 5, 6, 7, 8]\n",
      "[1, 2, 3, 4, 5, 6, 7, 8]\n",
      "[1, 2, 3, 4, 5, 6, 7, 8]\n",
      "False\n",
      "True\n",
      "[1, 2, 3, 4, 5, 6, 7, 8]\n",
      "[1, 2, 3, 4, 5, 6, 7, 8]\n"
     ]
    }
   ],
   "source": [
    "#Diffwaysofcreatingalist\n",
    "even=[2,4,6,8]\n",
    "odd=[1,3,5,7]\n",
    "numbers=even+odd\n",
    "print(numbers)\n",
    "numbers.sort()\n",
    "print(numbers)\n",
    "Sorted_numbers=sorted(numbers)\n",
    "more_numbers=numbers.copy()\n",
    "print(more_numbers)\n",
    "print(Sorted_numbers)\n",
    "print(numbers is Sorted_numbers)\n",
    "print(numbers == Sorted_numbers)\n",
    "\n",
    "more_numbers=numbers[:]\n",
    "print(more_numbers)\n",
    "\n",
    "\n",
    "more_numbers=list(numbers)\n",
    "print(more_numbers)"
   ]
  },
  {
   "cell_type": "code",
   "execution_count": 15,
   "metadata": {},
   "outputs": [
    {
     "name": "stdout",
     "output_type": "stream",
     "text": [
      "['modem', 'cpu', 'monitor', 'printer', 'scanner', 'gpu']\n"
     ]
    }
   ],
   "source": [
    "computer_parts=[\"modem\",\"cpu\",\"monitor\",\"mouse\",\"keyboard\",\"trackball\"]\n",
    "computer_parts[3:]=[\"printer\",\"scanner\",\"gpu\"]\n",
    "print(computer_parts)"
   ]
  },
  {
   "cell_type": "code",
   "execution_count": 16,
   "metadata": {},
   "outputs": [
    {
     "name": "stdout",
     "output_type": "stream",
     "text": [
      "[1, 100, 140, 178, 102, 200, 236]\n"
     ]
    }
   ],
   "source": [
    "#deletingitemsfromlist\n",
    "Data=[12,1,3,100,140,240,178,102,200,210,236]\n",
    "max_range=200\n",
    "min_range=100\n",
    "for index,value in enumerate(Data):\n",
    "    \n",
    "    if value<100 or value>200:\n",
    "        del Data[index]\n",
    "        \n",
    "print(Data)"
   ]
  },
  {
   "cell_type": "code",
   "execution_count": 40,
   "metadata": {},
   "outputs": [
    {
     "name": "stdout",
     "output_type": "stream",
     "text": [
      "0\n",
      "12\n",
      "1\n",
      "1\n",
      "2\n",
      "3\n",
      "3\n",
      "100\n",
      "3\n",
      "[100, 140, 240, 178, 102, 200, 210, 236]\n"
     ]
    }
   ],
   "source": [
    "#Removingthelowvalues\n",
    "\n",
    "Data=[12,1,3,100,140,240,178,102,200,210,236]\n",
    "max_range=200\n",
    "min_range=100\n",
    "stop=0\n",
    "for index,value in enumerate(Data):\n",
    "    print(index)\n",
    "    print(value)\n",
    "    if value>=min_range:\n",
    "        stop=index\n",
    "        break\n",
    "        \n",
    "        \n",
    "print(stop)#debugging\n",
    "    \n",
    "del Data[:stop]\n",
    "\n",
    "print(Data)\n",
    "#print(stop)\n",
    "\n",
    "        \n",
    "\n"
   ]
  },
  {
   "cell_type": "code",
   "execution_count": 28,
   "metadata": {},
   "outputs": [
    {
     "name": "stdout",
     "output_type": "stream",
     "text": [
      "0\n",
      "12\n",
      "1\n",
      "1\n",
      "2\n",
      "3\n",
      "3\n",
      "100\n",
      "4\n",
      "140\n",
      "5\n",
      "240\n",
      "6\n",
      "178\n",
      "7\n",
      "102\n",
      "8\n",
      "200\n",
      "9\n",
      "210\n",
      "10\n",
      "236\n",
      "3\n",
      "[100, 140, 240, 178, 102, 200, 210, 236]\n"
     ]
    }
   ],
   "source": [
    "#Removingthehighvalues\n",
    "\n",
    "Data=[12,1,3,100,140,240,178,102,200,210,236]\n",
    "max_range=200\n",
    "min_range=100\n",
    "start=0\n",
    "for index,value in enumerate(Data):\n",
    "    \n",
    "    print(index)\n",
    "    print(value)\n",
    "    if value<=min_range:\n",
    "        stop=index\n",
    "    continue\n",
    "        \n",
    "        \n",
    "print(stop)#debugging\n",
    "    \n",
    "del Data[:stop]\n",
    "\n",
    "print(Data)\n",
    "#print(stop)\n",
    "\n",
    "        \n",
    "\n"
   ]
  },
  {
   "cell_type": "code",
   "execution_count": 3,
   "metadata": {},
   "outputs": [
    {
     "name": "stdout",
     "output_type": "stream",
     "text": [
      "7\n",
      "6\n",
      "5\n",
      "6\n",
      "[100, 140, 240, 178, 102, 200]\n"
     ]
    }
   ],
   "source": [
    "#removing High values\n",
    "Data=[100,140,240,178,102,200,210,236]\n",
    "max_range=200\n",
    "min_range=100\n",
    "start=0\n",
    "for index in range(len(Data)-1,-1,-1):\n",
    "    print(index)\n",
    "    if Data[index]<=max_range:\n",
    "        start=index+1\n",
    "        break\n",
    "        \n",
    "print(start)\n",
    "del Data[start:]\n",
    "print(Data)\n",
    "        \n"
   ]
  },
  {
   "cell_type": "code",
   "execution_count": 11,
   "metadata": {},
   "outputs": [
    {
     "name": "stdout",
     "output_type": "stream",
     "text": [
      "10\n",
      "9\n",
      "8\n",
      "[104, 101, 4, 5, 308, 103, 107, 100, 306, 102, 108] 8\n",
      "7\n",
      "6\n",
      "5\n",
      "4\n",
      "[104, 101, 4, 5, 308, 103, 107, 100, 102, 108] 4\n",
      "3\n",
      "[104, 101, 4, 5, 103, 107, 100, 102, 108] 3\n",
      "2\n",
      "[104, 101, 4, 103, 107, 100, 102, 108] 2\n",
      "1\n",
      "0\n",
      "[104, 101, 103, 107, 100, 102, 108]\n"
     ]
    }
   ],
   "source": [
    "#removing hgh & low end values\n",
    "data=[104,101,4,5,308,103,107,100,306,102,108]\n",
    "min_valid=100\n",
    "max_valid=200\n",
    "for index in range(len(data)-1,-1,-1):\n",
    "    print(index)\n",
    "    if data[index]<min_valid or data[index]>max_valid:\n",
    "        print(data,index)\n",
    "        del data[index]\n",
    "print(data)"
   ]
  },
  {
   "cell_type": "code",
   "execution_count": 20,
   "metadata": {},
   "outputs": [
    {
     "name": "stdout",
     "output_type": "stream",
     "text": [
      "8 [104, 101, 4, 5, 308, 103, 107, 100, 306, 102, 108]\n",
      "7 [104, 101, 4, 5, 308, 103, 107, 100, 102, 108]\n",
      "6 [104, 101, 4, 5, 308, 103, 107, 102, 108]\n"
     ]
    },
    {
     "ename": "IndexError",
     "evalue": "list index out of range",
     "output_type": "error",
     "traceback": [
      "\u001b[1;31m---------------------------------------------------------------------------\u001b[0m",
      "\u001b[1;31mIndexError\u001b[0m                                Traceback (most recent call last)",
      "\u001b[1;32m<ipython-input-20-3e1d4712d766>\u001b[0m in \u001b[0;36m<module>\u001b[1;34m\u001b[0m\n\u001b[0;32m      4\u001b[0m \u001b[0mtop_index\u001b[0m\u001b[1;33m=\u001b[0m\u001b[0mlen\u001b[0m\u001b[1;33m(\u001b[0m\u001b[0mdata\u001b[0m\u001b[1;33m)\u001b[0m\u001b[1;33m-\u001b[0m\u001b[1;36m1\u001b[0m\u001b[1;33m\u001b[0m\u001b[1;33m\u001b[0m\u001b[0m\n\u001b[0;32m      5\u001b[0m \u001b[1;32mfor\u001b[0m \u001b[0mindex\u001b[0m\u001b[1;33m,\u001b[0m\u001b[0mvalue\u001b[0m \u001b[1;32min\u001b[0m \u001b[0menumerate\u001b[0m\u001b[1;33m(\u001b[0m\u001b[0mreversed\u001b[0m\u001b[1;33m(\u001b[0m\u001b[0mdata\u001b[0m\u001b[1;33m)\u001b[0m\u001b[1;33m)\u001b[0m\u001b[1;33m:\u001b[0m\u001b[1;33m\u001b[0m\u001b[1;33m\u001b[0m\u001b[0m\n\u001b[1;32m----> 6\u001b[1;33m     \u001b[1;32mif\u001b[0m \u001b[0mdata\u001b[0m\u001b[1;33m[\u001b[0m\u001b[0mindex\u001b[0m\u001b[1;33m]\u001b[0m\u001b[1;33m<\u001b[0m\u001b[0mmin_valid\u001b[0m \u001b[1;32mor\u001b[0m \u001b[0mdata\u001b[0m\u001b[1;33m[\u001b[0m\u001b[0mindex\u001b[0m\u001b[1;33m]\u001b[0m\u001b[1;33m>\u001b[0m\u001b[0mmax_valid\u001b[0m\u001b[1;33m:\u001b[0m\u001b[1;33m\u001b[0m\u001b[1;33m\u001b[0m\u001b[0m\n\u001b[0m\u001b[0;32m      7\u001b[0m \u001b[1;33m\u001b[0m\u001b[0m\n\u001b[0;32m      8\u001b[0m         \u001b[0mprint\u001b[0m\u001b[1;33m(\u001b[0m\u001b[0mtop_index\u001b[0m\u001b[1;33m-\u001b[0m\u001b[0mindex\u001b[0m\u001b[1;33m,\u001b[0m\u001b[0mdata\u001b[0m\u001b[1;33m)\u001b[0m\u001b[1;33m\u001b[0m\u001b[1;33m\u001b[0m\u001b[0m\n",
      "\u001b[1;31mIndexError\u001b[0m: list index out of range"
     ]
    }
   ],
   "source": [
    "data=[104,101,4,5,308,103,107,100,306,102,108]\n",
    "min_valid=100\n",
    "max_valid=200\n",
    "top_index=len(data)-1\n",
    "for index,value in enumerate(reversed(data)):\n",
    "    if data[index]<min_valid or data[index]>max_valid:\n",
    "        \n",
    "        \n",
    "        print(top_index-index,data)\n",
    "        del data[top_index-index]\n",
    "   \n",
    "        \n",
    "\n",
    "print(data)\n",
    "        \n",
    "        \n",
    "        "
   ]
  },
  {
   "cell_type": "code",
   "execution_count": null,
   "metadata": {},
   "outputs": [],
   "source": []
  }
 ],
 "metadata": {
  "kernelspec": {
   "display_name": "Python 3",
   "language": "python",
   "name": "python3"
  },
  "language_info": {
   "codemirror_mode": {
    "name": "ipython",
    "version": 3
   },
   "file_extension": ".py",
   "mimetype": "text/x-python",
   "name": "python",
   "nbconvert_exporter": "python",
   "pygments_lexer": "ipython3",
   "version": "3.7.6"
  }
 },
 "nbformat": 4,
 "nbformat_minor": 4
}
